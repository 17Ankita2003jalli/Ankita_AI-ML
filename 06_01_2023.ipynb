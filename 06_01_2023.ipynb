{
  "nbformat": 4,
  "nbformat_minor": 0,
  "metadata": {
    "colab": {
      "provenance": [],
      "authorship_tag": "ABX9TyPtPy5kxJ/TvqRIw4NlSaOi",
      "include_colab_link": true
    },
    "kernelspec": {
      "name": "python3",
      "display_name": "Python 3"
    },
    "language_info": {
      "name": "python"
    }
  },
  "cells": [
    {
      "cell_type": "markdown",
      "metadata": {
        "id": "view-in-github",
        "colab_type": "text"
      },
      "source": [
        "<a href=\"https://colab.research.google.com/github/17Ankita2003jalli/Ankita_AI-ML/blob/main/06_01_2023.ipynb\" target=\"_parent\"><img src=\"https://colab.research.google.com/assets/colab-badge.svg\" alt=\"Open In Colab\"/></a>"
      ]
    },
    {
      "cell_type": "code",
      "execution_count": null,
      "metadata": {
        "colab": {
          "base_uri": "https://localhost:8080/"
        },
        "id": "uJUIqdD1P_3Y",
        "outputId": "03a969b7-2899-4959-90fc-9a27da35b87d"
      },
      "outputs": [
        {
          "output_type": "stream",
          "name": "stdout",
          "text": [
            "HELLO Ankita\n"
          ]
        }
      ],
      "source": [
        "print('HELLO Ankita')"
      ]
    },
    {
      "cell_type": "markdown",
      "source": [
        "Using of parameters in print() statement."
      ],
      "metadata": {
        "id": "024g3TsEZOem"
      }
    },
    {
      "cell_type": "code",
      "source": [
        "print('HELLO',end='\\n\\n')\n",
        "print('ABIT')"
      ],
      "metadata": {
        "colab": {
          "base_uri": "https://localhost:8080/"
        },
        "id": "QFqdlXp4Za7W",
        "outputId": "a0b45669-4796-457d-bd3b-fb492d21e878"
      },
      "execution_count": null,
      "outputs": [
        {
          "output_type": "stream",
          "name": "stdout",
          "text": [
            "HELLO\n",
            "\n",
            "ABIT\n"
          ]
        }
      ]
    },
    {
      "cell_type": "code",
      "source": [
        "a=6\n",
        "b=1\n",
        "c=2023\n",
        "print(a,b,c,sep='-')"
      ],
      "metadata": {
        "colab": {
          "base_uri": "https://localhost:8080/"
        },
        "id": "IPyXIEwbbjpa",
        "outputId": "a6175679-b82a-4513-d02f-ed35db720c2e"
      },
      "execution_count": null,
      "outputs": [
        {
          "output_type": "stream",
          "name": "stdout",
          "text": [
            "6-1-2023\n"
          ]
        }
      ]
    },
    {
      "cell_type": "code",
      "source": [
        "a=100\n",
        "print('a =',a)"
      ],
      "metadata": {
        "colab": {
          "base_uri": "https://localhost:8080/"
        },
        "id": "ugS4QgWHcR3M",
        "outputId": "543502d2-36a0-4675-c9b2-9991730de3d2"
      },
      "execution_count": null,
      "outputs": [
        {
          "output_type": "stream",
          "name": "stdout",
          "text": [
            "a = 100\n"
          ]
        }
      ]
    },
    {
      "cell_type": "code",
      "source": [
        "nm=input('Enter name')\n",
        "print(nm)"
      ],
      "metadata": {
        "colab": {
          "base_uri": "https://localhost:8080/"
        },
        "id": "eaUckEWfclVo",
        "outputId": "b2fe4108-2716-4711-9a35-259bb06fc994"
      },
      "execution_count": null,
      "outputs": [
        {
          "output_type": "stream",
          "name": "stdout",
          "text": [
            "Enter nameAnkita\n",
            "Ankita\n"
          ]
        }
      ]
    },
    {
      "cell_type": "code",
      "source": [
        "# using of + operator.\n",
        "a=int(input('Enter a'))\n",
        "b=int(input('Enter b'))\n",
        "c=a+b\n",
        "print('a+b= ',c)"
      ],
      "metadata": {
        "colab": {
          "base_uri": "https://localhost:8080/"
        },
        "id": "ZgqAmYf_dqNc",
        "outputId": "418a73ee-31b6-411d-a388-6075a683637a"
      },
      "execution_count": null,
      "outputs": [
        {
          "output_type": "stream",
          "name": "stdout",
          "text": [
            "Enter a3\n",
            "Enter b5\n",
            "a+b=  8\n"
          ]
        }
      ]
    },
    {
      "cell_type": "code",
      "source": [
        "# The type() function\n",
        "a=100\n",
        "print(type(a))\n",
        "b=33.55\n",
        "print(type(b))\n",
        "c=\"ABIT\"\n",
        "print(type(c))\n",
        "d=True\n",
        "print(type(d))"
      ],
      "metadata": {
        "colab": {
          "base_uri": "https://localhost:8080/"
        },
        "id": "si_lpvnKhkMR",
        "outputId": "e5a68ceb-c0f6-404e-ec89-96283bf35580"
      },
      "execution_count": null,
      "outputs": [
        {
          "output_type": "stream",
          "name": "stdout",
          "text": [
            "<class 'int'>\n",
            "<class 'float'>\n",
            "<class 'str'>\n",
            "<class 'bool'>\n"
          ]
        }
      ]
    },
    {
      "cell_type": "markdown",
      "source": [],
      "metadata": {
        "id": "nJ8-DSkPZIcZ"
      }
    },
    {
      "cell_type": "code",
      "source": [
        "#Binary literals\n",
        "x=0b10100\n",
        "#Decimal literals\n",
        "y=100\n",
        "#Octal literals\n",
        "z=0o215\n",
        "#Hexadecimal literals\n",
        "u=0x12d\n",
        "#float literals\n",
        "float_1=100.5\n",
        "float_2=1.5e2\n",
        "#complex literal\n",
        "a=5+3.14j\n",
        "print(x,y,z,u)\n",
        "print(float_1,float_2)\n",
        "print(a,a.imag,a.real)"
      ],
      "metadata": {
        "colab": {
          "base_uri": "https://localhost:8080/"
        },
        "id": "X51Ni0wjiSbj",
        "outputId": "3b6d351a-89eb-4c85-97ff-c1e29e301957"
      },
      "execution_count": null,
      "outputs": [
        {
          "output_type": "stream",
          "name": "stdout",
          "text": [
            "20 100 141 301\n",
            "100.5 150.0\n",
            "(5+3.14j) 3.14 5.0\n"
          ]
        }
      ]
    },
    {
      "cell_type": "code",
      "source": [
        "a=2+5j\n",
        "b=3+10j\n",
        "c=a+b\n",
        "print(c)"
      ],
      "metadata": {
        "colab": {
          "base_uri": "https://localhost:8080/"
        },
        "id": "UXAIg54FmlcK",
        "outputId": "a00b20cd-2cc8-4adf-dc24-0882123114e9"
      },
      "execution_count": null,
      "outputs": [
        {
          "output_type": "stream",
          "name": "stdout",
          "text": [
            "(5+15j)\n"
          ]
        }
      ]
    }
  ]
}